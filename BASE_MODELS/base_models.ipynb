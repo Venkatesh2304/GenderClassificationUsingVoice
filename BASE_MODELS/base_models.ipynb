{
 "cells": [
  {
   "cell_type": "code",
   "execution_count": 1,
   "id": "91decb2d",
   "metadata": {},
   "outputs": [
    {
     "name": "stdout",
     "output_type": "stream",
     "text": [
      "(19262, 22)\n",
      "Index(['meanfreq', 'sd', 'median', 'Q25', 'Q75', 'IQR', 'skew', 'kurt',\n",
      "       'sp.ent', 'sfm', 'mode', 'centroid', 'peakf', 'meanfun', 'minfun',\n",
      "       'maxfun', 'meandom', 'mindom', 'maxdom', 'dfrange', 'modindx',\n",
      "       'gender'],\n",
      "      dtype='object')\n",
      "(3168, 21)\n"
     ]
    }
   ],
   "source": [
    "import numpy as np\n",
    "import matplotlib.pyplot as plt\n",
    "import pandas as pd\n",
    "from sklearn.model_selection import train_test_split\n",
    "from sklearn.preprocessing import StandardScaler\n",
    "from sklearn.tree import DecisionTreeClassifier\n",
    "from sklearn.ensemble import RandomForestClassifier\n",
    "from sklearn.ensemble import GradientBoostingClassifier\n",
    "from sklearn.svm import SVC\n",
    "from sklearn.neural_network import MLPClassifier #Read the voice dataset\n",
    "from sklearn.metrics import f1_score\n",
    "\n",
    "mydata = pd.read_csv(\"features.csv\")\n",
    "mydata = mydata[mydata['gender'].isin(['male', 'female'])]\n",
    "\n",
    "mydata = mydata.drop(['path'], axis=1)\n",
    "mydata = mydata.dropna()\n",
    "columns = mydata.columns.tolist()\n",
    "columns.remove('gender')\n",
    "mydata = pd.DataFrame(mydata, columns=columns + ['gender'])\n",
    "\n",
    "mydata_train, mydata_test = train_test_split(mydata, random_state=0, test_size=.2)\n",
    "\n",
    "scaler1 = StandardScaler()\n",
    "\n",
    "scaler1.fit(mydata_train.iloc[:,:mydata_train.shape[1]-1])\n",
    "\n",
    "X_train = scaler1.transform(mydata_train.iloc[:,:mydata_train.shape[1]-1]) \n",
    "X_test = scaler1.transform(mydata_test.iloc[:,:mydata_train.shape[1]-1])\n",
    "\n",
    "y_train = mydata_train['gender'].values\n",
    "y_test = mydata_test['gender'].values\n",
    "y_train[y_train == 'female'] = 0\n",
    "y_train[y_train == 'male'] = 1\n",
    "y_test[y_test == 'female'] = 0\n",
    "y_test[y_test == 'male'] = 1\n",
    "\n",
    "y_train = y_train.astype('int')\n",
    "y_test = y_test.astype('int')\n"
   ]
  },
  {
   "cell_type": "code",
   "execution_count": 30,
   "id": "8501940a",
   "metadata": {},
   "outputs": [
    {
     "name": "stdout",
     "output_type": "stream",
     "text": [
      "Decision Tree\n",
      "Accuracy on training set: 0.994\n",
      "Accuracy on test set: 0.815\n",
      "F1 score on training set: 0.995\n",
      "F1 score on test set: 0.822\n"
     ]
    }
   ],
   "source": [
    "#Train decision tree model\n",
    "DT = DecisionTreeClassifier(random_state=0,max_depth=20,criterion=\"entropy\").fit(X_train, y_train)\n",
    "print(\"Decision Tree\")\n",
    "print(\"Accuracy on training set: {:.3f}\".format(DT.score(X_train, y_train)))\n",
    "print(\"Accuracy on test set: {:.3f}\".format(DT.score(X_test, y_test)))\n",
    "print(\"F1 score on training set: {:.3f}\".format(f1_score(y_train, DT.predict(X_train))))\n",
    "print(\"F1 score on test set: {:.3f}\".format(f1_score(y_test, DT.predict(X_test))))\n"
   ]
  },
  {
   "cell_type": "code",
   "execution_count": 38,
   "id": "93461197",
   "metadata": {},
   "outputs": [
    {
     "name": "stdout",
     "output_type": "stream",
     "text": [
      "Random Forests\n",
      "Accuracy on training set: 0.926\n",
      "Accuracy on test set: 0.872\n",
      "F1 score on training set: 0.929\n",
      "F1 score on test set: 0.879\n"
     ]
    }
   ],
   "source": [
    "\n",
    "#Train random forest model\n",
    "forest = RandomForestClassifier(n_estimators=14, random_state=0, max_depth=10, criterion=\"entropy\").fit(X_train, y_train)\n",
    "print(\"Random Forests\")\n",
    "print(\"Accuracy on training set: {:.3f}\".format(forest.score(X_train, y_train)))\n",
    "print(\"Accuracy on test set: {:.3f}\".format(forest.score(X_test, y_test)))\n",
    "print(\"F1 score on training set: {:.3f}\".format(f1_score(y_train, forest.predict(X_train))))\n",
    "print(\"F1 score on test set: {:.3f}\".format(f1_score(y_test, forest.predict(X_test))))\n",
    "\n"
   ]
  },
  {
   "cell_type": "code",
   "execution_count": 41,
   "id": "5ae84557",
   "metadata": {
    "scrolled": true
   },
   "outputs": [
    {
     "name": "stdout",
     "output_type": "stream",
     "text": [
      "Gradient Boosting\n",
      "Accuracy on training set: 0.997\n",
      "Accuracy on test set: 0.873\n",
      "F1 score on training set: 0.998\n",
      "F1 score on test set: 0.879\n"
     ]
    }
   ],
   "source": [
    "#Train gradient boosting mode\n",
    "gbrt = GradientBoostingClassifier(random_state=0,learning_rate=0.1,max_depth=10).fit(X_train, y_train)\n",
    "print(\"Gradient Boosting\")\n",
    "print(\"Accuracy on training set: {:.3f}\".format(gbrt.score(X_train, y_train)))\n",
    "print(\"Accuracy on test set: {:.3f}\".format(gbrt.score(X_test, y_test)))\n",
    "print(\"F1 score on training set: {:.3f}\".format(f1_score(y_train, gbrt.predict(X_train))))\n",
    "print(\"F1 score on test set: {:.3f}\".format(f1_score(y_test, gbrt.predict(X_test))))\n",
    "\n"
   ]
  },
  {
   "cell_type": "code",
   "execution_count": 43,
   "id": "ea2cb753",
   "metadata": {},
   "outputs": [
    {
     "name": "stdout",
     "output_type": "stream",
     "text": [
      "Support Vector Machine\n",
      "Accuracy on training set: 0.930\n",
      "Accuracy on test set: 0.868\n",
      "F1 score on training set: 0.933\n",
      "F1 score on test set: 0.873\n"
     ]
    }
   ],
   "source": [
    "# Train support vector machine model\n",
    "svm = SVC(C=100).fit(X_train, y_train)\n",
    "print(\"Support Vector Machine\")\n",
    "print(\"Accuracy on training set: {:.3f}\".format(svm.score(X_train, y_train)))\n",
    "print(\"Accuracy on test set: {:.3f}\".format(svm.score(X_test, y_test)))\n",
    "print(\"F1 score on training set: {:.3f}\".format(f1_score(y_train, svm.predict(X_train))))\n",
    "print(\"F1 score on test set: {:.3f}\".format(f1_score(y_test, svm.predict(X_test))))\n",
    "\n"
   ]
  },
  {
   "cell_type": "code",
   "execution_count": 46,
   "id": "fe178731",
   "metadata": {},
   "outputs": [
    {
     "name": "stdout",
     "output_type": "stream",
     "text": [
      "Multilayer Perceptron\n",
      "Accuracy on training set: 0.904\n",
      "Accuracy on test set: 0.875\n",
      "F1 score on training set: 0.908\n",
      "F1 score on test set: 0.880\n"
     ]
    }
   ],
   "source": [
    "#Train neural network model\n",
    "mlp = MLPClassifier(random_state=0, max_iter=1000).fit(X_train, y_train)\n",
    "print(\"Multilayer Perceptron\")\n",
    "print(\"Accuracy on training set: {:.3f}\".format(mlp.score(X_train, y_train)))\n",
    "print(\"Accuracy on test set: {:.3f}\".format(mlp.score(X_test, y_test)))\n",
    "print(\"F1 score on training set: {:.3f}\".format(f1_score(y_train, mlp.predict(X_train))))\n",
    "print(\"F1 score on test set: {:.3f}\".format(f1_score(y_test, mlp.predict(X_test))))\n",
    "\n"
   ]
  }
 ],
 "metadata": {
  "kernelspec": {
   "display_name": "Python 3 (ipykernel)",
   "language": "python",
   "name": "python3"
  },
  "language_info": {
   "codemirror_mode": {
    "name": "ipython",
    "version": 3
   },
   "file_extension": ".py",
   "mimetype": "text/x-python",
   "name": "python",
   "nbconvert_exporter": "python",
   "pygments_lexer": "ipython3",
   "version": "3.10.12"
  }
 },
 "nbformat": 4,
 "nbformat_minor": 5
}
